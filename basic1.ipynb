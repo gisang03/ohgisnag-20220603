{
  "nbformat": 4,
  "nbformat_minor": 0,
  "metadata": {
    "colab": {
      "name": "basic1.ipynb",
      "provenance": [],
      "authorship_tag": "ABX9TyNsieKDTKqBqkg5mtB3nqdd",
      "include_colab_link": true
    },
    "kernelspec": {
      "name": "python3",
      "display_name": "Python 3"
    },
    "language_info": {
      "name": "python"
    }
  },
  "cells": [
    {
      "cell_type": "markdown",
      "metadata": {
        "id": "view-in-github",
        "colab_type": "text"
      },
      "source": [
        "<a href=\"https://colab.research.google.com/github/gisang03/ohgisnag-20220603/blob/main/basic1.ipynb\" target=\"_parent\"><img src=\"https://colab.research.google.com/assets/colab-badge.svg\" alt=\"Open In Colab\"/></a>"
      ]
    },
    {
      "cell_type": "code",
      "execution_count": null,
      "metadata": {
        "colab": {
          "base_uri": "https://localhost:8080/"
        },
        "id": "Zuph2gix_4PO",
        "outputId": "fa5c9be7-ca22-47e2-c515-a63f82ff5532"
      },
      "outputs": [
        {
          "output_type": "stream",
          "name": "stdout",
          "text": [
            "안녕 파이썬\n"
          ]
        }
      ],
      "source": [
        "print (\"안녕 파이썬\")"
      ]
    },
    {
      "cell_type": "markdown",
      "source": [
        "문자가 들어가는 것은 무조건 \"또는 \"이 들어가야한다"
      ],
      "metadata": {
        "id": "X8rxAAVlAFBW"
      }
    },
    {
      "cell_type": "code",
      "source": [
        "print (5+5)"
      ],
      "metadata": {
        "colab": {
          "base_uri": "https://localhost:8080/"
        },
        "id": "QTgYvtVJAKIm",
        "outputId": "9134556d-b31b-46f8-db88-3d3af30b42aa"
      },
      "execution_count": null,
      "outputs": [
        {
          "output_type": "stream",
          "name": "stdout",
          "text": [
            "10\n"
          ]
        }
      ]
    },
    {
      "cell_type": "markdown",
      "source": [
        "숫자가 들어가는건 숫자형이다. 더 자제히 이야기 하면 전수형과 실수형으로 나뉜다."
      ],
      "metadata": {
        "id": "AwtZcwVZAObV"
      }
    },
    {
      "cell_type": "code",
      "source": [
        "print(\"3개의 정수값을 입력하시오\")\n",
        "int1 = int(input(\"첫번쨰 값을 입력하시오.:\"))\n",
        "int2 = int(input(\"두번쨰 값을 입력하시오.:\"))\n",
        "int3 = int(input(\"세번째 값을 입력하시오.:\"))\n",
        "print(int1, int2, int3)\n",
        "sum = int1 + int2 + int3\n",
        "print(sum)"
      ],
      "metadata": {
        "colab": {
          "base_uri": "https://localhost:8080/"
        },
        "id": "GqR39DHCAO4N",
        "outputId": "41201e9c-595e-4671-c866-ed225e02c819"
      },
      "execution_count": null,
      "outputs": [
        {
          "output_type": "stream",
          "name": "stdout",
          "text": [
            "3개의 정수값을 입력하시오\n",
            "첫번쨰 값을 입력하시오.:5\n",
            "두번쨰 값을 입력하시오.:4\n",
            "세번째 값을 입력하시오.:2\n",
            "5 4 2\n",
            "11\n"
          ]
        }
      ]
    },
    {
      "cell_type": "code",
      "source": [
        "total = 0\n",
        "counter = 1\n",
        "while counter <= 10:\n",
        "   grade = int(input(\"점수를 입력하시오.:\"))\n",
        "   total = grade + total\n",
        "   counter = counter + 1\n",
        "aver = total / 5\n",
        "print(aver) "
      ],
      "metadata": {
        "colab": {
          "base_uri": "https://localhost:8080/"
        },
        "id": "N1bFIc7iCEd4",
        "outputId": "66a06b4f-6b0b-40b3-a18e-2d232adf97f6"
      },
      "execution_count": null,
      "outputs": [
        {
          "output_type": "stream",
          "name": "stdout",
          "text": [
            "점수를 입력하시오.:10\n",
            "점수를 입력하시오.:20\n",
            "점수를 입력하시오.:30\n",
            "점수를 입력하시오.:40\n",
            "점수를 입력하시오.:50\n",
            "점수를 입력하시오.:60\n",
            "점수를 입력하시오.:70\n",
            "점수를 입력하시오.:80\n",
            "점수를 입력하시오.:90\n",
            "점수를 입력하시오.:100\n",
            "110.0\n"
          ]
        }
      ]
    },
    {
      "cell_type": "code",
      "source": [
        "pay_rate = int(input(\"시급을 입력하시오. 2022년 6월기준 9160원:\"))\n",
        "hour_work = int(input(\"일한 시간을 입력하시오:\"))\n",
        "mon_pay = pay_rate * hour_work\n",
        "print(mon_pay)"
      ],
      "metadata": {
        "colab": {
          "base_uri": "https://localhost:8080/"
        },
        "id": "HVUeATkoHxOS",
        "outputId": "73a05883-954d-442d-a2a7-eb1562038c1d"
      },
      "execution_count": null,
      "outputs": [
        {
          "output_type": "stream",
          "name": "stdout",
          "text": [
            "시급을 입력하시오. 2022년 6월기준 9160원:9160\n",
            "일한 시간을 입력하시오:48\n",
            "439680\n"
          ]
        }
      ]
    }
  ]
}